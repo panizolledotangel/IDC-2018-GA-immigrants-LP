{
 "cells": [
  {
   "cell_type": "markdown",
   "metadata": {},
   "source": [
    "# Includes"
   ]
  },
  {
   "cell_type": "code",
   "execution_count": null,
   "metadata": {},
   "outputs": [],
   "source": [
    "from datetime import date, timedelta\n",
    "\n",
    "import matplotlib.pyplot as plt\n",
    "from IPython.display import Image\n",
    "\n",
    "# Beanchmar Loading\n",
    "from sources.gloaders.enron_loader import EnronLoader\n",
    "from sources.tracker.dynamic_community_tracking import DynamicCommunityTraking\n",
    "from sources.tracker.events_painter import EventsPainter"
   ]
  },
  {
   "cell_type": "markdown",
   "metadata": {},
   "source": [
    "# Dataset V:"
   ]
  },
  {
   "cell_type": "code",
   "execution_count": null,
   "metadata": {},
   "outputs": [],
   "source": [
    "enron5 = EnronLoader(file=\"data_sets/enron_corrected.csv\", \n",
    "                    init_date=date(2000, 1, 1), \n",
    "                    end_date=date(2000, 4, 30),\n",
    "                    duration_snapshot=timedelta(days=15),\n",
    "                    overlap=timedelta(days=0))\n",
    "\n",
    "print(enron5.get_dataset_info())"
   ]
  },
  {
   "cell_type": "markdown",
   "metadata": {},
   "source": [
    "## Number nodes"
   ]
  },
  {
   "cell_type": "code",
   "execution_count": null,
   "metadata": {},
   "outputs": [],
   "source": [
    "font = {'family' : 'DejaVu Sans',\n",
    "        'weight' : 'bold',\n",
    "        'size'   : 12}\n",
    "plt.rc('font', **font)\n",
    "\n",
    "f, axs = plt.subplots(1)\n",
    "f.set_size_inches(w=5, h=5)\n",
    "enron5.plot_number_nodes_ts(axs)\n",
    "axs.set_title(\"nodes\", fontdict=font)\n",
    "axs.set_xlabel(\"id timestamp\", fontdict=font)\n",
    "axs.set_ylabel(\"number of new/old nodes\", fontdict=font)\n",
    "plt.savefig('outputs/enron5_nodes.png')\n",
    "\n",
    "f, axs = plt.subplots(1)\n",
    "f.set_size_inches(w=5, h=5)\n",
    "enron5.plot_number_edges_ts(axs)\n",
    "axs.set_title(\"edges\", fontdict=font)\n",
    "axs.set_xlabel(\"id timestamp\", fontdict=font)\n",
    "axs.set_ylabel(\"number of new/old edges\", fontdict=font)\n",
    "plt.savefig('outputs/enron5_edges.png')"
   ]
  }
 ],
 "metadata": {
  "kernelspec": {
   "display_name": "Python 3",
   "language": "python",
   "name": "python3"
  },
  "language_info": {
   "codemirror_mode": {
    "name": "ipython",
    "version": 3
   },
   "file_extension": ".py",
   "mimetype": "text/x-python",
   "name": "python",
   "nbconvert_exporter": "python",
   "pygments_lexer": "ipython3",
   "version": "3.6.4"
  }
 },
 "nbformat": 4,
 "nbformat_minor": 2
}
