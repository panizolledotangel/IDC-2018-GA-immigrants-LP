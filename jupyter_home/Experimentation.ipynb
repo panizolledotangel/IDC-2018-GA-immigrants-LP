{
 "cells": [
  {
   "cell_type": "markdown",
   "metadata": {},
   "source": [
    "# Includes"
   ]
  },
  {
   "cell_type": "code",
   "execution_count": null,
   "metadata": {},
   "outputs": [],
   "source": [
    "from datetime import date, timedelta\n",
    "\n",
    "#deap\n",
    "from deap import creator\n",
    "\n",
    "# GA\n",
    "from sources.gas.dynamic_communities_ga_immigrants_fixed import DynamicCommunitiesGAImmigrantsFixed as ImmigrantsGA\n",
    "from sources.gas.dynamic_communities_ga_standard import DynamicCommunitiesGAStandard as StandardGA\n",
    "from sources.gas.dynamic_ga_configuration import DynamicGaConfiguration as GAConfig\n",
    "from sources.gas.paralelle_experiment import ParalelleExperiment as Experiment\n",
    "\n",
    "# Beanchmar Loading\n",
    "from sources.gloaders.enron_loader import EnronLoader\n",
    "\n",
    "# Test Suit\n",
    "from sources.experiment.testsuits.test_suit_reparators import TestSuitReparators\n",
    "from sources.experiment.testsuits.reparators_scheme_loader import ReparatorsSchemeLoader\n",
    "\n",
    "# Reparators\n",
    "from sources.reparators.greedy_reparator import GreedyReparator\n",
    "\n",
    "# Plotting\n",
    "from wand.image import Image\n",
    "from IPython.display import *"
   ]
  },
  {
   "cell_type": "markdown",
   "metadata": {},
   "source": [
    "# Test Reparators functions"
   ]
  },
  {
   "cell_type": "markdown",
   "metadata": {},
   "source": [
    "## Data set: Enron - \n",
    "From January 1º to Agust 1º of 2000 to April 30th, 8 snapshots of 15 days with a 0 days overlap."
   ]
  },
  {
   "cell_type": "code",
   "execution_count": null,
   "metadata": {},
   "outputs": [],
   "source": [
    "enron = EnronLoader(file=\"data_sets/enron_corrected.csv\", \n",
    "                    init_date=date(2000, 1, 1), \n",
    "                    end_date=date(2000, 4, 30),\n",
    "                    duration_snapshot=timedelta(days=15),\n",
    "                    overlap=timedelta(days=0))\n",
    "\n",
    "print(enron.get_dataset_info())"
   ]
  },
  {
   "cell_type": "markdown",
   "metadata": {},
   "source": [
    "## Experimenttation"
   ]
  },
  {
   "cell_type": "code",
   "execution_count": null,
   "metadata": {
    "scrolled": true
   },
   "outputs": [],
   "source": [
    "n_iter = 30\n",
    "config = GAConfig(rate_random_immigrants=0.1,\n",
    "                  number_generations=100)\n",
    "\n",
    "r_functions = {\n",
    "    \"greedy\" : GreedyReparator(enron.snapshots, creator.Individual),\n",
    "}\n",
    "\n",
    "ts = TestSuitReparators(enron, config, \"experiments\", r_functions, \"enron_{0}it_repair\".format(n_iter), \n",
    "                        n_iter)"
   ]
  },
  {
   "cell_type": "code",
   "execution_count": null,
   "metadata": {
    "scrolled": true
   },
   "outputs": [],
   "source": [
    "ts.do_test_suit()"
   ]
  },
  {
   "cell_type": "markdown",
   "metadata": {},
   "source": [
    "## Results"
   ]
  },
  {
   "cell_type": "code",
   "execution_count": null,
   "metadata": {
    "scrolled": false
   },
   "outputs": [],
   "source": [
    "loader = ts.get_test_suit_loader()"
   ]
  },
  {
   "cell_type": "code",
   "execution_count": null,
   "metadata": {
    "scrolled": false
   },
   "outputs": [],
   "source": [
    "img_path = \"exp_output/enron_reparators_best.png\"\n",
    "loader.save_best_median(img_path)"
   ]
  },
  {
   "cell_type": "code",
   "execution_count": null,
   "metadata": {},
   "outputs": [],
   "source": []
  }
 ],
 "metadata": {
  "kernelspec": {
   "display_name": "Python 3",
   "language": "python",
   "name": "python3"
  },
  "language_info": {
   "codemirror_mode": {
    "name": "ipython",
    "version": 3
   },
   "file_extension": ".py",
   "mimetype": "text/x-python",
   "name": "python",
   "nbconvert_exporter": "python",
   "pygments_lexer": "ipython3",
   "version": "3.6.4"
  }
 },
 "nbformat": 4,
 "nbformat_minor": 2
}
